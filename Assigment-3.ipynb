{
 "cells": [
  {
   "cell_type": "markdown",
   "id": "190265e5",
   "metadata": {},
   "source": [
    "### 1. Why are functions advantageous to have in your programs?"
   ]
  },
  {
   "cell_type": "markdown",
   "id": "95bd41fe",
   "metadata": {},
   "source": [
    "Functions reduce the need for duplicate code.\n",
    "Using a function, it is possible to reduce the size of a program by calling and using the function at different places in the program. Functions help in code modularity, which means that the entire code is divided into separate blocks, each of which is self-contained and performs a different task.\n",
    "\n",
    "Many advantages like . Code reusability, code Readability and many more"
   ]
  },
  {
   "cell_type": "markdown",
   "id": "b42560b5",
   "metadata": {},
   "source": [
    "### 2. When does the code in a function run: when it's specified or when it's called?"
   ]
  },
  {
   "cell_type": "markdown",
   "id": "2367a8d2",
   "metadata": {},
   "source": [
    " The code in a function executes when the function is called, not when the function is defined."
   ]
  },
  {
   "cell_type": "markdown",
   "id": "446194d3",
   "metadata": {},
   "source": [
    "### 3. What statement creates a function?"
   ]
  },
  {
   "cell_type": "markdown",
   "id": "08c4bb00",
   "metadata": {},
   "source": [
    " def keyword is used to create a function\n",
    " \n",
    " synatax:\n",
    " \n",
    " \n",
    "  def function_name :\n",
    "      \n",
    "      \n",
    "      ...code.."
   ]
  },
  {
   "cell_type": "markdown",
   "id": "98efb154",
   "metadata": {},
   "source": [
    "### 4. What is the difference between a function and a function call?"
   ]
  },
  {
   "cell_type": "markdown",
   "id": "4f4fdea4",
   "metadata": {},
   "source": [
    "A function is a block of code that does a particular operation and returns a result. It usually accepts inputs as parameters and returns a result.\n",
    "\n",
    "A function call is the code used to pass control to a function."
   ]
  },
  {
   "cell_type": "markdown",
   "id": "24aec792",
   "metadata": {},
   "source": [
    "### 5. How many global scopes are there in a Python program? How many local scopes?"
   ]
  },
  {
   "cell_type": "markdown",
   "id": "6007f79e",
   "metadata": {},
   "source": [
    "There's only one global Python scope per program execution. This scope remains in existence until the program terminates and all its names are forgotten. Otherwise, the next time you were to run the program, the names would remember their values from the previous run.\n",
    "\n",
    "At any given time during execution, you'll have at most four active Python scopes—local, enclosing, global, and built-in—depending on where you are in the code. On the other hand, you'll always have at least two active scopes, which are the global and built-in scopes."
   ]
  },
  {
   "cell_type": "markdown",
   "id": "e6622697",
   "metadata": {},
   "source": [
    "### 6. What happens to variables in a local scope when the function call returns?"
   ]
  },
  {
   "cell_type": "markdown",
   "id": "e01bc09f",
   "metadata": {},
   "source": [
    "When the execution of the function terminates (returns), the local variables are destroyed."
   ]
  },
  {
   "cell_type": "markdown",
   "id": "fae7cb0f",
   "metadata": {},
   "source": [
    "### 7. What is the concept of a return value? Is it possible to have a return value in an expression?"
   ]
  },
  {
   "cell_type": "markdown",
   "id": "e3feaecd",
   "metadata": {},
   "source": [
    "A return statement is used to end the execution of the function call and “returns” the result (value of the expression following the return keyword) to the caller."
   ]
  },
  {
   "cell_type": "markdown",
   "id": "ad9cee28",
   "metadata": {},
   "source": [
    "### 8. If a function does not have a return statement, what is the return value of a call to that function?"
   ]
  },
  {
   "cell_type": "markdown",
   "id": "94ebb460",
   "metadata": {},
   "source": [
    "Regardless of how long and complex your functions are, any function without an explicit return statement, or one with a return statement without a return value, will return None ."
   ]
  },
  {
   "cell_type": "markdown",
   "id": "67b345f8",
   "metadata": {},
   "source": [
    "### 9. How do you make a function variable refer to the global variable?"
   ]
  },
  {
   "cell_type": "markdown",
   "id": "bed2de35",
   "metadata": {},
   "source": [
    "Normally, when you create a variable inside a function, that variable is local, and can only be used inside that function. To create a global variable inside a function, you can use the global keyword"
   ]
  },
  {
   "cell_type": "markdown",
   "id": "f4944dab",
   "metadata": {},
   "source": [
    "### 10. What is the data type of None?"
   ]
  },
  {
   "cell_type": "code",
   "execution_count": 2,
   "id": "e13db830",
   "metadata": {
    "scrolled": true
   },
   "outputs": [
    {
     "data": {
      "text/plain": [
       "NoneType"
      ]
     },
     "execution_count": 2,
     "metadata": {},
     "output_type": "execute_result"
    }
   ],
   "source": [
    "type(None)"
   ]
  },
  {
   "cell_type": "markdown",
   "id": "182c137a",
   "metadata": {},
   "source": [
    "### 11. What does the sentence import areallyourpetsnamederic do?"
   ]
  },
  {
   "cell_type": "markdown",
   "id": "45d3235e",
   "metadata": {},
   "source": [
    "It imports a module named areallyourpetsnamederic. (This isn't a module in python)"
   ]
  },
  {
   "cell_type": "markdown",
   "id": "ffcbf52f",
   "metadata": {},
   "source": [
    "### 12. If you had a bacon() feature in a spam module, what would you call it after importing spam?"
   ]
  },
  {
   "cell_type": "markdown",
   "id": "3af6eeb9",
   "metadata": {},
   "source": [
    "spam.bacon()"
   ]
  },
  {
   "cell_type": "markdown",
   "id": "961ce834",
   "metadata": {},
   "source": [
    "### 13. What can you do to save a programme from crashing if it encounters an error?"
   ]
  },
  {
   "cell_type": "markdown",
   "id": "26cdccce",
   "metadata": {},
   "source": [
    "error handling can be used to notify the user of why the error occurred and gracefully exit the process that caused the error."
   ]
  },
  {
   "cell_type": "markdown",
   "id": "9c2f0f54",
   "metadata": {},
   "source": [
    "### 14. What is the purpose of the try clause? What is the purpose of the except clause?"
   ]
  },
  {
   "cell_type": "markdown",
   "id": "e554de8d",
   "metadata": {},
   "source": [
    "The try block lets you test a block of code for errors. The except block lets you handle the error."
   ]
  }
 ],
 "metadata": {
  "kernelspec": {
   "display_name": "Python 3",
   "language": "python",
   "name": "python3"
  },
  "language_info": {
   "codemirror_mode": {
    "name": "ipython",
    "version": 3
   },
   "file_extension": ".py",
   "mimetype": "text/x-python",
   "name": "python",
   "nbconvert_exporter": "python",
   "pygments_lexer": "ipython3",
   "version": "3.8.8"
  }
 },
 "nbformat": 4,
 "nbformat_minor": 5
}
